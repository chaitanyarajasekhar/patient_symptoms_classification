{
 "cells": [
  {
   "cell_type": "code",
   "execution_count": 1,
   "metadata": {},
   "outputs": [],
   "source": [
    "import pandas as pd\n",
    "import numpy as np\n",
    "import scipy\n",
    "import tensorflow as tf\n",
    "import matplotlib.pyplot as plt\n",
    "\n",
    "%matplotlib inline"
   ]
  },
  {
   "cell_type": "markdown",
   "metadata": {},
   "source": [
    "## Load the data and explore "
   ]
  },
  {
   "cell_type": "code",
   "execution_count": 2,
   "metadata": {},
   "outputs": [
    {
     "name": "stdout",
     "output_type": "stream",
     "text": [
      "      0     1           2                                     3    4    5   \\\n",
      "0  37013  AFIB   314208002             Rapid atrial fibrillation  NaN  NaN   \n",
      "1  37014  Afib  3320796013                        Atrial flutter  NaN  NaN   \n",
      "2  37015  Afib  3322864015               Atypical atrial flutter  NaN  NaN   \n",
      "3  37016  AFib   421232012   AF - Paroxysmal atrial fibrillation  NaN  NaN   \n",
      "4  37017  Afib   421233019  PAF - Paroxysmal atrial fibrillation  NaN  NaN   \n",
      "\n",
      "    6   7   8   9  10         11  12  13  14    15 16  \\\n",
      "0  NaN NaN NaN NaN  f  SNOMED-CT  74 NaN NaN  4010  f   \n",
      "1  NaN NaN NaN NaN  f  SNOMED-CT  74 NaN NaN  4010  f   \n",
      "2  NaN NaN NaN NaN  f  SNOMED-CT  74 NaN NaN  4010  f   \n",
      "3  NaN NaN NaN NaN  f  SNOMED-CT  74 NaN NaN  4010  f   \n",
      "4  NaN NaN NaN NaN  f  SNOMED-CT  74 NaN NaN  4010  f   \n",
      "\n",
      "                                     17  \n",
      "0  3137fbd7-551e-4e7e-96f8-13b12a867098  \n",
      "1  3137fbd7-551e-4e7e-96f8-13b12a867098  \n",
      "2  3137fbd7-551e-4e7e-96f8-13b12a867098  \n",
      "3  3137fbd7-551e-4e7e-96f8-13b12a867098  \n",
      "4  3137fbd7-551e-4e7e-96f8-13b12a867098  \n"
     ]
    }
   ],
   "source": [
    "# importing the data and prinitng few rows to examine the data\n",
    "# read the CSV file \n",
    "df = pd.read_csv(\"codeset.csv\", header=None) \n",
    "   \n",
    "# print the first five rows \n",
    "print(df.head()) "
   ]
  },
  {
   "cell_type": "code",
   "execution_count": 3,
   "metadata": {},
   "outputs": [
    {
     "name": "stdout",
     "output_type": "stream",
     "text": [
      "(32413, 18)\n"
     ]
    }
   ],
   "source": [
    "print(df.shape)"
   ]
  },
  {
   "cell_type": "code",
   "execution_count": 4,
   "metadata": {},
   "outputs": [],
   "source": [
    "# selecting only the columns present in the problem statement\n",
    "select_columns_index = [3,15]\n",
    "df = df.iloc[:,select_columns_index]"
   ]
  },
  {
   "cell_type": "code",
   "execution_count": 5,
   "metadata": {},
   "outputs": [
    {
     "name": "stdout",
     "output_type": "stream",
     "text": [
      "(32413, 2)\n"
     ]
    }
   ],
   "source": [
    "print(df.shape)"
   ]
  },
  {
   "cell_type": "code",
   "execution_count": 6,
   "metadata": {},
   "outputs": [
    {
     "name": "stdout",
     "output_type": "stream",
     "text": [
      "                                     3     15\n",
      "0             Rapid atrial fibrillation  4010\n",
      "1                        Atrial flutter  4010\n",
      "2               Atypical atrial flutter  4010\n",
      "3   AF - Paroxysmal atrial fibrillation  4010\n",
      "4  PAF - Paroxysmal atrial fibrillation  4010\n"
     ]
    }
   ],
   "source": [
    "print(df.head()) "
   ]
  },
  {
   "cell_type": "markdown",
   "metadata": {},
   "source": [
    "# Preprocessing and cleaning the data"
   ]
  },
  {
   "cell_type": "markdown",
   "metadata": {},
   "source": [
    "### Check for any empty cells \n",
    "Exmaine the data for any empty entries and remove them "
   ]
  },
  {
   "cell_type": "code",
   "execution_count": 7,
   "metadata": {},
   "outputs": [
    {
     "data": {
      "text/html": [
       "<div>\n",
       "<style scoped>\n",
       "    .dataframe tbody tr th:only-of-type {\n",
       "        vertical-align: middle;\n",
       "    }\n",
       "\n",
       "    .dataframe tbody tr th {\n",
       "        vertical-align: top;\n",
       "    }\n",
       "\n",
       "    .dataframe thead th {\n",
       "        text-align: right;\n",
       "    }\n",
       "</style>\n",
       "<table border=\"1\" class=\"dataframe\">\n",
       "  <thead>\n",
       "    <tr style=\"text-align: right;\">\n",
       "      <th></th>\n",
       "      <th>3</th>\n",
       "      <th>15</th>\n",
       "    </tr>\n",
       "  </thead>\n",
       "  <tbody>\n",
       "    <tr>\n",
       "      <th>600</th>\n",
       "      <td>Type 1 diabetes mellitus with mild nonprolifer...</td>\n",
       "      <td>NaN</td>\n",
       "    </tr>\n",
       "    <tr>\n",
       "      <th>601</th>\n",
       "      <td>Type 1 diabetes mellitus with mild nonprolifer...</td>\n",
       "      <td>NaN</td>\n",
       "    </tr>\n",
       "    <tr>\n",
       "      <th>602</th>\n",
       "      <td>Type 1 diabetes mellitus with moderate nonprol...</td>\n",
       "      <td>NaN</td>\n",
       "    </tr>\n",
       "    <tr>\n",
       "      <th>603</th>\n",
       "      <td>Type 1 diabetes mellitus with moderate nonprol...</td>\n",
       "      <td>NaN</td>\n",
       "    </tr>\n",
       "    <tr>\n",
       "      <th>604</th>\n",
       "      <td>Type 1 diabetes mellitus with moderate nonprol...</td>\n",
       "      <td>NaN</td>\n",
       "    </tr>\n",
       "  </tbody>\n",
       "</table>\n",
       "</div>"
      ],
      "text/plain": [
       "                                                    3    15\n",
       "600  Type 1 diabetes mellitus with mild nonprolifer...  NaN\n",
       "601  Type 1 diabetes mellitus with mild nonprolifer...  NaN\n",
       "602  Type 1 diabetes mellitus with moderate nonprol...  NaN\n",
       "603  Type 1 diabetes mellitus with moderate nonprol...  NaN\n",
       "604  Type 1 diabetes mellitus with moderate nonprol...  NaN"
      ]
     },
     "execution_count": 7,
     "metadata": {},
     "output_type": "execute_result"
    }
   ],
   "source": [
    "# prinitng to see if any erros in data\n",
    "df.iloc[600:605,:]"
   ]
  },
  {
   "cell_type": "code",
   "execution_count": 8,
   "metadata": {},
   "outputs": [
    {
     "name": "stdout",
     "output_type": "stream",
     "text": [
      "(32052, 2)\n"
     ]
    }
   ],
   "source": [
    "# dropping the rows with empty values i.e. incomplete data\n",
    "df = df.dropna()\n",
    "print(df.shape)"
   ]
  },
  {
   "cell_type": "markdown",
   "metadata": {},
   "source": [
    "### Check for any class frequency \n",
    "In the output of the below cell it can be observed that there are imbalances in the classes "
   ]
  },
  {
   "cell_type": "code",
   "execution_count": 9,
   "metadata": {},
   "outputs": [
    {
     "name": "stdout",
     "output_type": "stream",
     "text": [
      "M3      5382\n",
      "M13     4045\n",
      "M156    2305\n",
      "M10     2096\n",
      "6522    1732\n",
      "        ... \n",
      "E020       1\n",
      "7200       1\n",
      "7370       1\n",
      "6011       1\n",
      "7320       1\n",
      "Name: 15, Length: 200, dtype: int64\n"
     ]
    }
   ],
   "source": [
    "# checking number of classes present\n",
    "print(df[15].value_counts(dropna=False))"
   ]
  },
  {
   "cell_type": "code",
   "execution_count": 10,
   "metadata": {},
   "outputs": [
    {
     "data": {
      "text/html": [
       "<div>\n",
       "<style scoped>\n",
       "    .dataframe tbody tr th:only-of-type {\n",
       "        vertical-align: middle;\n",
       "    }\n",
       "\n",
       "    .dataframe tbody tr th {\n",
       "        vertical-align: top;\n",
       "    }\n",
       "\n",
       "    .dataframe thead th {\n",
       "        text-align: right;\n",
       "    }\n",
       "</style>\n",
       "<table border=\"1\" class=\"dataframe\">\n",
       "  <thead>\n",
       "    <tr style=\"text-align: right;\">\n",
       "      <th></th>\n",
       "      <th>symptoms</th>\n",
       "      <th>code</th>\n",
       "    </tr>\n",
       "  </thead>\n",
       "  <tbody>\n",
       "    <tr>\n",
       "      <th>0</th>\n",
       "      <td>Rapid atrial fibrillation</td>\n",
       "      <td>4010</td>\n",
       "    </tr>\n",
       "    <tr>\n",
       "      <th>1</th>\n",
       "      <td>Atrial flutter</td>\n",
       "      <td>4010</td>\n",
       "    </tr>\n",
       "    <tr>\n",
       "      <th>2</th>\n",
       "      <td>Atypical atrial flutter</td>\n",
       "      <td>4010</td>\n",
       "    </tr>\n",
       "    <tr>\n",
       "      <th>3</th>\n",
       "      <td>AF - Paroxysmal atrial fibrillation</td>\n",
       "      <td>4010</td>\n",
       "    </tr>\n",
       "    <tr>\n",
       "      <th>4</th>\n",
       "      <td>PAF - Paroxysmal atrial fibrillation</td>\n",
       "      <td>4010</td>\n",
       "    </tr>\n",
       "  </tbody>\n",
       "</table>\n",
       "</div>"
      ],
      "text/plain": [
       "                               symptoms  code\n",
       "0             Rapid atrial fibrillation  4010\n",
       "1                        Atrial flutter  4010\n",
       "2               Atypical atrial flutter  4010\n",
       "3   AF - Paroxysmal atrial fibrillation  4010\n",
       "4  PAF - Paroxysmal atrial fibrillation  4010"
      ]
     },
     "execution_count": 10,
     "metadata": {},
     "output_type": "execute_result"
    }
   ],
   "source": [
    "# renaming the cloumns for better readability \n",
    "df = df.rename(columns={3: \"symptoms\", 15: \"code\"})\n",
    "df.head()"
   ]
  },
  {
   "cell_type": "code",
   "execution_count": 11,
   "metadata": {},
   "outputs": [
    {
     "name": "stdout",
     "output_type": "stream",
     "text": [
      "(32052, 3)\n",
      "Index(['M3', 'M13', 'M156', 'M10', '6522', 'M14', 'M80', 'M68', 'M77', '4000',\n",
      "       ...\n",
      "       '7120', '7350', '7380', '7020', '7220', 'E020', '7200', '7370', '6011',\n",
      "       '7320'],\n",
      "      dtype='object', length=200)\n"
     ]
    }
   ],
   "source": [
    "# create numerical lables for training the data \n",
    "df[\"initial_label\"] = np.nan\n",
    "print(df.shape)\n",
    "\n",
    "value_counts = df[\"code\"].value_counts() # Specific column \n",
    "code_index   = value_counts.index\n",
    "print(code_index)\n",
    "for i, code_id in enumerate(code_index):\n",
    "    df.loc[df[df[\"code\"] == code_id].index,\"initial_label\"] = i"
   ]
  },
  {
   "cell_type": "code",
   "execution_count": 12,
   "metadata": {},
   "outputs": [
    {
     "data": {
      "text/plain": [
       "array([[<matplotlib.axes._subplots.AxesSubplot object at 0x7f0aec547630>]],\n",
       "      dtype=object)"
      ]
     },
     "execution_count": 12,
     "metadata": {},
     "output_type": "execute_result"
    },
    {
     "data": {
      "image/png": "[encoded data removed]",
      "text/plain": [
       "<Figure size 432x288 with 1 Axes>"
      ]
     },
     "metadata": {
      "needs_background": "light"
     },
     "output_type": "display_data"
    }
   ],
   "source": [
    "# plot histogram to visualize class distribution \n",
    "df.hist(column=\"initial_label\", bins=50)"
   ]
  },
  {
   "cell_type": "markdown",
   "metadata": {},
   "source": [
    "### Solutions for class imbalance \n",
    "1. Collect more data - \"not possible at this moment\"\n",
    "1. Data Reduction - Reduce the dataset to solve a smaller classifiaction problem (resampling)\n",
    "2. Data Augmentation - increasing the data synthetically for the classes with less frequencies"
   ]
  },
  {
   "cell_type": "markdown",
   "metadata": {},
   "source": [
    "### Removing classes with less data and reducing the problem size\n",
    "- from option 2 above"
   ]
  },
  {
   "cell_type": "code",
   "execution_count": 13,
   "metadata": {},
   "outputs": [],
   "source": [
    "# copy the original data frame\n",
    "df_copy = df.copy()"
   ]
  },
  {
   "cell_type": "code",
   "execution_count": 14,
   "metadata": {},
   "outputs": [
    {
     "name": "stdout",
     "output_type": "stream",
     "text": [
      "(19638, 3)\n"
     ]
    }
   ],
   "source": [
    "# reducing the problem to 10 classes\n",
    "value_counts = df[\"code\"].value_counts() # Specific column \n",
    "threshold = 650\n",
    "to_remove = value_counts[value_counts <= threshold].index\n",
    "for code in to_remove:\n",
    "    df = df[df[\"code\"] != code]\n",
    "    \n",
    "print(df.shape)"
   ]
  },
  {
   "cell_type": "code",
   "execution_count": 15,
   "metadata": {},
   "outputs": [
    {
     "name": "stdout",
     "output_type": "stream",
     "text": [
      "M3      5382\n",
      "M13     4045\n",
      "M156    2305\n",
      "M10     2096\n",
      "6522    1732\n",
      "M14     1136\n",
      "M80      782\n",
      "M68      750\n",
      "M77      729\n",
      "4000     681\n",
      "Name: code, dtype: int64\n"
     ]
    }
   ],
   "source": [
    "print(df[\"code\"].value_counts())"
   ]
  },
  {
   "cell_type": "code",
   "execution_count": 16,
   "metadata": {},
   "outputs": [],
   "source": [
    "def create_labels_df(df, label_column):\n",
    "    # create numerical lables for training the data \n",
    "    df[\"label\"] = np.nan\n",
    "    print(df.shape)\n",
    "\n",
    "    value_counts = df[label_column].value_counts() # Specific column \n",
    "    code_index   = value_counts.index\n",
    "    print(code_index)\n",
    "    for i, code_id in enumerate(code_index):\n",
    "        df.loc[df[df[label_column] == code_id].index,\"label\"] = i\n",
    "        \n",
    "    return df"
   ]
  },
  {
   "cell_type": "code",
   "execution_count": 17,
   "metadata": {},
   "outputs": [
    {
     "name": "stdout",
     "output_type": "stream",
     "text": [
      "(19638, 4)\n",
      "Index(['M3', 'M13', 'M156', 'M10', '6522', 'M14', 'M80', 'M68', 'M77', '4000'], dtype='object')\n"
     ]
    }
   ],
   "source": [
    "# create labels \n",
    "df =  create_labels_df(df,\"code\")"
   ]
  },
  {
   "cell_type": "code",
   "execution_count": 18,
   "metadata": {},
   "outputs": [
    {
     "data": {
      "text/html": [
       "<div>\n",
       "<style scoped>\n",
       "    .dataframe tbody tr th:only-of-type {\n",
       "        vertical-align: middle;\n",
       "    }\n",
       "\n",
       "    .dataframe tbody tr th {\n",
       "        vertical-align: top;\n",
       "    }\n",
       "\n",
       "    .dataframe thead th {\n",
       "        text-align: right;\n",
       "    }\n",
       "</style>\n",
       "<table border=\"1\" class=\"dataframe\">\n",
       "  <thead>\n",
       "    <tr style=\"text-align: right;\">\n",
       "      <th></th>\n",
       "      <th>symptoms</th>\n",
       "      <th>code</th>\n",
       "      <th>initial_label</th>\n",
       "      <th>label</th>\n",
       "    </tr>\n",
       "  </thead>\n",
       "  <tbody>\n",
       "    <tr>\n",
       "      <th>41</th>\n",
       "      <td>Pregnancy on oral contraceptive (finding)</td>\n",
       "      <td>6522</td>\n",
       "      <td>4.0</td>\n",
       "      <td>4.0</td>\n",
       "    </tr>\n",
       "    <tr>\n",
       "      <th>42</th>\n",
       "      <td>Pregnancy on intrauterine device (finding)</td>\n",
       "      <td>6522</td>\n",
       "      <td>4.0</td>\n",
       "      <td>4.0</td>\n",
       "    </tr>\n",
       "    <tr>\n",
       "      <th>43</th>\n",
       "      <td>Surrogate pregnancy (finding)</td>\n",
       "      <td>6522</td>\n",
       "      <td>4.0</td>\n",
       "      <td>4.0</td>\n",
       "    </tr>\n",
       "    <tr>\n",
       "      <th>44</th>\n",
       "      <td>Precocious pregnancy (finding)</td>\n",
       "      <td>6522</td>\n",
       "      <td>4.0</td>\n",
       "      <td>4.0</td>\n",
       "    </tr>\n",
       "    <tr>\n",
       "      <th>45</th>\n",
       "      <td>Pregnant - urine test confirms (finding)</td>\n",
       "      <td>6522</td>\n",
       "      <td>4.0</td>\n",
       "      <td>4.0</td>\n",
       "    </tr>\n",
       "  </tbody>\n",
       "</table>\n",
       "</div>"
      ],
      "text/plain": [
       "                                      symptoms  code  initial_label  label\n",
       "41   Pregnancy on oral contraceptive (finding)  6522            4.0    4.0\n",
       "42  Pregnancy on intrauterine device (finding)  6522            4.0    4.0\n",
       "43               Surrogate pregnancy (finding)  6522            4.0    4.0\n",
       "44              Precocious pregnancy (finding)  6522            4.0    4.0\n",
       "45    Pregnant - urine test confirms (finding)  6522            4.0    4.0"
      ]
     },
     "execution_count": 18,
     "metadata": {},
     "output_type": "execute_result"
    }
   ],
   "source": [
    "df.head()"
   ]
  },
  {
   "cell_type": "code",
   "execution_count": 19,
   "metadata": {},
   "outputs": [
    {
     "data": {
      "text/plain": [
       "array([[<matplotlib.axes._subplots.AxesSubplot object at 0x7f0aebf74438>]],\n",
       "      dtype=object)"
      ]
     },
     "execution_count": 19,
     "metadata": {},
     "output_type": "execute_result"
    },
    {
     "data": {
      "image/png": "[encoded data removed]",
      "text/plain": [
       "<Figure size 432x288 with 1 Axes>"
      ]
     },
     "metadata": {
      "needs_background": "light"
     },
     "output_type": "display_data"
    }
   ],
   "source": [
    "# To do plot histogram\n",
    "df.hist(column = 'label', bins = 10)"
   ]
  },
  {
   "cell_type": "code",
   "execution_count": 20,
   "metadata": {},
   "outputs": [],
   "source": [
    "# train and test split https://stackoverflow.com/questions/24147278/how-do-i-create-test-and-train-samples-from-one-dataframe-with-pandas\n",
    "\n",
    "def split_to_train_test(df, label_column, train_frac=0.8):\n",
    "    train_df, test_df = pd.DataFrame(), pd.DataFrame()\n",
    "    labels = df[label_column].unique()\n",
    "    for lbl in labels:\n",
    "        lbl_df = df[df[label_column] == lbl]\n",
    "        lbl_train_df = lbl_df.sample(frac=train_frac)\n",
    "        lbl_test_df = lbl_df.drop(lbl_train_df.index)\n",
    "        #print('\\n%s:\\n---------\\ntotal:%d\\ntrain_df:%d\\ntest_df:%d' % (lbl, len(lbl_df), len(lbl_train_df), len(lbl_test_df)))\n",
    "        train_df = train_df.append(lbl_train_df)\n",
    "        test_df = test_df.append(lbl_test_df)\n",
    "\n",
    "    return train_df, test_df\n"
   ]
  },
  {
   "cell_type": "code",
   "execution_count": 21,
   "metadata": {},
   "outputs": [
    {
     "name": "stdout",
     "output_type": "stream",
     "text": [
      "(15712, 4) (3926, 4)\n"
     ]
    }
   ],
   "source": [
    "train_df, test_df = split_to_train_test(df, \"label\", train_frac=0.8)\n",
    "print(train_df.shape, test_df.shape)"
   ]
  },
  {
   "cell_type": "code",
   "execution_count": 22,
   "metadata": {},
   "outputs": [],
   "source": [
    "from sklearn.feature_extraction.text import CountVectorizer\n",
    "from sklearn.feature_extraction.text import TfidfTransformer"
   ]
  },
  {
   "cell_type": "code",
   "execution_count": 23,
   "metadata": {},
   "outputs": [
    {
     "data": {
      "text/plain": [
       "CountVectorizer(analyzer='word', binary=False, decode_error='strict',\n",
       "                dtype=<class 'numpy.int64'>, encoding='utf-8', input='content',\n",
       "                lowercase=True, max_df=1.0, max_features=None, min_df=0,\n",
       "                ngram_range=(1, 1), preprocessor=None, stop_words=None,\n",
       "                strip_accents=None, token_pattern='(?u)\\\\b\\\\w\\\\w+\\\\b',\n",
       "                tokenizer=None, vocabulary=None)"
      ]
     },
     "execution_count": 23,
     "metadata": {},
     "output_type": "execute_result"
    }
   ],
   "source": [
    "# create a vector array representing the words  \n",
    "vectorizer = CountVectorizer(min_df=0)\n",
    "vectorizer.fit(train_df[\"symptoms\"])"
   ]
  },
  {
   "cell_type": "code",
   "execution_count": 24,
   "metadata": {},
   "outputs": [],
   "source": [
    "## print the bag of words to see\n",
    "#vectorizer.vocabulary_"
   ]
  },
  {
   "cell_type": "code",
   "execution_count": 25,
   "metadata": {},
   "outputs": [
    {
     "name": "stdout",
     "output_type": "stream",
     "text": [
      "1204\n"
     ]
    }
   ],
   "source": [
    "print(len(vectorizer.get_feature_names()))"
   ]
  },
  {
   "cell_type": "code",
   "execution_count": 26,
   "metadata": {},
   "outputs": [
    {
     "name": "stdout",
     "output_type": "stream",
     "text": [
      "(15712, 1204) (3926, 1204)\n"
     ]
    }
   ],
   "source": [
    "# convert train and test text to vectorizer array\n",
    "train_data = vectorizer.transform(train_df[\"symptoms\"]).toarray()\n",
    "test_data  = vectorizer.transform(test_df[\"symptoms\"]).toarray()\n",
    "print(train_data.shape, test_data.shape)"
   ]
  },
  {
   "cell_type": "code",
   "execution_count": 27,
   "metadata": {},
   "outputs": [
    {
     "name": "stdout",
     "output_type": "stream",
     "text": [
      "(15712,) (3926,)\n"
     ]
    }
   ],
   "source": [
    "# create train test label arrays \n",
    "train_labels = train_df[\"label\"].to_numpy()\n",
    "test_labels = test_df[\"label\"].to_numpy()\n",
    "print(train_labels.shape, test_labels.shape)"
   ]
  },
  {
   "cell_type": "code",
   "execution_count": 28,
   "metadata": {},
   "outputs": [],
   "source": [
    "# use tdif to give common words less importance \n",
    "transformer = TfidfTransformer()"
   ]
  },
  {
   "cell_type": "code",
   "execution_count": 29,
   "metadata": {},
   "outputs": [
    {
     "name": "stdout",
     "output_type": "stream",
     "text": [
      "(15712, 1204) (3926, 1204)\n"
     ]
    }
   ],
   "source": [
    "# fit the tdif transform on train and test data\n",
    "train_data_tfidf = transformer.fit_transform(train_data)\n",
    "test_data_tfidf  = transformer.fit_transform(test_data)\n",
    "print(train_data_tfidf.shape, test_data_tfidf.shape)"
   ]
  },
  {
   "cell_type": "code",
   "execution_count": 30,
   "metadata": {},
   "outputs": [
    {
     "name": "stdout",
     "output_type": "stream",
     "text": [
      "(15712, 1204) (3926, 1204)\n"
     ]
    }
   ],
   "source": [
    "# convert the format of train and test data to numpy array\n",
    "train_data_tfidf = scipy.sparse.csr_matrix.toarray(train_data_tfidf)\n",
    "test_data_tfidf  = scipy.sparse.csr_matrix.toarray(test_data_tfidf)\n",
    "print(train_data_tfidf.shape, test_data_tfidf.shape)"
   ]
  },
  {
   "cell_type": "markdown",
   "metadata": {},
   "source": [
    "## Trying out to see if logistic regression solves the problem\n",
    "- can also use this a base line for neural networks "
   ]
  },
  {
   "cell_type": "code",
   "execution_count": 31,
   "metadata": {},
   "outputs": [],
   "source": [
    "from sklearn.linear_model import LogisticRegression"
   ]
  },
  {
   "cell_type": "code",
   "execution_count": 32,
   "metadata": {},
   "outputs": [
    {
     "name": "stdout",
     "output_type": "stream",
     "text": [
      "Accuracy: 0.9309730005094243\n"
     ]
    },
    {
     "name": "stderr",
     "output_type": "stream",
     "text": [
      "/home/chaitanya/VirtualEnv/env_py3/lib/python3.6/site-packages/sklearn/linear_model/_logistic.py:940: ConvergenceWarning: lbfgs failed to converge (status=1):\n",
      "STOP: TOTAL NO. of ITERATIONS REACHED LIMIT.\n",
      "\n",
      "Increase the number of iterations (max_iter) or scale the data as shown in:\n",
      "    https://scikit-learn.org/stable/modules/preprocessing.html\n",
      "Please also refer to the documentation for alternative solver options:\n",
      "    https://scikit-learn.org/stable/modules/linear_model.html#logistic-regression\n",
      "  extra_warning_msg=_LOGISTIC_SOLVER_CONVERGENCE_MSG)\n"
     ]
    }
   ],
   "source": [
    "classifier = LogisticRegression()\n",
    "classifier.fit(train_data_tfidf, train_labels)\n",
    "score = classifier.score(test_data_tfidf, test_labels)\n",
    "\n",
    "print(\"Accuracy:\", score)"
   ]
  },
  {
   "cell_type": "code",
   "execution_count": 33,
   "metadata": {},
   "outputs": [],
   "source": [
    "import seaborn as sns\n",
    "from sklearn import metrics"
   ]
  },
  {
   "cell_type": "code",
   "execution_count": 34,
   "metadata": {},
   "outputs": [],
   "source": [
    "def plot_confusion_matrix(score, true_labels, predicted_labels, n_labels):\n",
    "    confusion_matrix = metrics.confusion_matrix(true_labels,predicted_labels)\n",
    "    plt.figure(figsize=(n_labels-1,n_labels-1))\n",
    "    sns.heatmap(confusion_matrix, annot=True, fmt=\".1f\", linewidths=.5, square = True, cmap = 'Blues_r');\n",
    "    plt.ylabel('Actual label');\n",
    "    plt.xlabel('Predicted label');\n",
    "    all_sample_title = 'Accuracy Score: {0}'.format(score)\n",
    "    plt.title(all_sample_title, size = 15);"
   ]
  },
  {
   "cell_type": "code",
   "execution_count": 35,
   "metadata": {},
   "outputs": [
    {
     "data": {
      "image/png": "[encoded data removed]",
      "text/plain": [
       "<Figure size 648x648 with 2 Axes>"
      ]
     },
     "metadata": {
      "needs_background": "light"
     },
     "output_type": "display_data"
    }
   ],
   "source": [
    "# plot \n",
    "plot_confusion_matrix(score, test_labels,classifier.predict(test_data_tfidf), 10)"
   ]
  },
  {
   "cell_type": "markdown",
   "metadata": {},
   "source": [
    "## Moving to neural networks \n",
    "1. step 1 check if it can be solved with simple model before proceeding to deep model \n",
    "2. "
   ]
  },
  {
   "cell_type": "code",
   "execution_count": 36,
   "metadata": {},
   "outputs": [],
   "source": [
    "model = tf.keras.models.Sequential([\n",
    "  \n",
    "  tf.keras.layers.Dense(10, activation='softmax')\n",
    "])"
   ]
  },
  {
   "cell_type": "code",
   "execution_count": 37,
   "metadata": {},
   "outputs": [],
   "source": [
    "loss_fn = tf.keras.losses.SparseCategoricalCrossentropy(from_logits=True)"
   ]
  },
  {
   "cell_type": "code",
   "execution_count": 38,
   "metadata": {},
   "outputs": [],
   "source": [
    "model.compile(optimizer='adam',\n",
    "              loss=loss_fn,\n",
    "              metrics=['accuracy'])"
   ]
  },
  {
   "cell_type": "code",
   "execution_count": 39,
   "metadata": {},
   "outputs": [
    {
     "name": "stdout",
     "output_type": "stream",
     "text": [
      "Train on 15712 samples\n",
      "Epoch 1/20\n",
      "15712/15712 [==============================] - 1s 64us/sample - loss: 2.2296 - accuracy: 0.7319\n",
      "Epoch 2/20\n",
      "15712/15712 [==============================] - 1s 41us/sample - loss: 2.0239 - accuracy: 0.7688\n",
      "Epoch 3/20\n",
      "15712/15712 [==============================] - 1s 42us/sample - loss: 1.8730 - accuracy: 0.8036\n",
      "Epoch 4/20\n",
      "15712/15712 [==============================] - 1s 43us/sample - loss: 1.7808 - accuracy: 0.8569\n",
      "Epoch 5/20\n",
      "15712/15712 [==============================] - 1s 42us/sample - loss: 1.7193 - accuracy: 0.8909\n",
      "Epoch 6/20\n",
      "15712/15712 [==============================] - 1s 44us/sample - loss: 1.6781 - accuracy: 0.9015\n",
      "Epoch 7/20\n",
      "15712/15712 [==============================] - 1s 43us/sample - loss: 1.6499 - accuracy: 0.9086\n",
      "Epoch 8/20\n",
      "15712/15712 [==============================] - 1s 42us/sample - loss: 1.6298 - accuracy: 0.9111\n",
      "Epoch 9/20\n",
      "15712/15712 [==============================] - 1s 44us/sample - loss: 1.6148 - accuracy: 0.9131\n",
      "Epoch 10/20\n",
      "15712/15712 [==============================] - 1s 44us/sample - loss: 1.6033 - accuracy: 0.9140\n",
      "Epoch 11/20\n",
      "15712/15712 [==============================] - 1s 44us/sample - loss: 1.5941 - accuracy: 0.9150\n",
      "Epoch 12/20\n",
      "15712/15712 [==============================] - 1s 45us/sample - loss: 1.5866 - accuracy: 0.9160\n",
      "Epoch 13/20\n",
      "15712/15712 [==============================] - 1s 44us/sample - loss: 1.5801 - accuracy: 0.9168\n",
      "Epoch 14/20\n",
      "15712/15712 [==============================] - 1s 47us/sample - loss: 1.5743 - accuracy: 0.9189\n",
      "Epoch 15/20\n",
      "15712/15712 [==============================] - 1s 45us/sample - loss: 1.5688 - accuracy: 0.9203\n",
      "Epoch 16/20\n",
      "15712/15712 [==============================] - 1s 47us/sample - loss: 1.5633 - accuracy: 0.9207\n",
      "Epoch 17/20\n",
      "15712/15712 [==============================] - 1s 44us/sample - loss: 1.5583 - accuracy: 0.9243\n",
      "Epoch 18/20\n",
      "15712/15712 [==============================] - 1s 45us/sample - loss: 1.5541 - accuracy: 0.9253\n",
      "Epoch 19/20\n",
      "15712/15712 [==============================] - 1s 46us/sample - loss: 1.5507 - accuracy: 0.9254\n",
      "Epoch 20/20\n",
      "15712/15712 [==============================] - 1s 46us/sample - loss: 1.5478 - accuracy: 0.9304\n"
     ]
    },
    {
     "data": {
      "text/plain": [
       "<tensorflow.python.keras.callbacks.History at 0x7f0ac9b7b780>"
      ]
     },
     "execution_count": 39,
     "metadata": {},
     "output_type": "execute_result"
    }
   ],
   "source": [
    "model.fit(train_data_tfidf, train_labels, epochs=20)"
   ]
  },
  {
   "cell_type": "code",
   "execution_count": 40,
   "metadata": {},
   "outputs": [
    {
     "name": "stdout",
     "output_type": "stream",
     "text": [
      "3926/1 - 0s - loss: 1.5084 - accuracy: 0.9284\n"
     ]
    }
   ],
   "source": [
    "_, accuracy = model.evaluate(test_data_tfidf,  test_labels, verbose=2)"
   ]
  },
  {
   "cell_type": "code",
   "execution_count": 41,
   "metadata": {},
   "outputs": [
    {
     "data": {
      "image/png": "[encoded data removed]",
      "text/plain": [
       "<Figure size 648x648 with 2 Axes>"
      ]
     },
     "metadata": {
      "needs_background": "light"
     },
     "output_type": "display_data"
    }
   ],
   "source": [
    "predictions = np.argmax(model.predict(test_data_tfidf), axis=1)\n",
    "plot_confusion_matrix(accuracy, test_labels, predictions, 10 )"
   ]
  },
  {
   "cell_type": "markdown",
   "metadata": {},
   "source": [
    "### Trying out a deep model with multiple hidden layers "
   ]
  },
  {
   "cell_type": "code",
   "execution_count": 42,
   "metadata": {},
   "outputs": [],
   "source": [
    "model_deep = tf.keras.models.Sequential([\n",
    "    tf.keras.layers.Dense(512, activation='relu'),\n",
    "    tf.keras.layers.Dense(512, activation='relu'),\n",
    "    tf.keras.layers.Dense(256, activation='relu'),\n",
    "    tf.keras.layers.Dense(10, activation='softmax')\n",
    "])"
   ]
  },
  {
   "cell_type": "code",
   "execution_count": 43,
   "metadata": {},
   "outputs": [],
   "source": [
    "model_deep.compile(optimizer='adam',\n",
    "              loss=loss_fn,\n",
    "              metrics=['accuracy'])"
   ]
  },
  {
   "cell_type": "code",
   "execution_count": 44,
   "metadata": {},
   "outputs": [
    {
     "name": "stdout",
     "output_type": "stream",
     "text": [
      "Train on 15712 samples\n",
      "Epoch 1/20\n",
      "15712/15712 [==============================] - 3s 186us/sample - loss: 1.6139 - accuracy: 0.8555\n",
      "Epoch 2/20\n",
      "15712/15712 [==============================] - 3s 160us/sample - loss: 1.5410 - accuracy: 0.9202\n",
      "Epoch 3/20\n",
      "15712/15712 [==============================] - 3s 163us/sample - loss: 1.5399 - accuracy: 0.9212\n",
      "Epoch 4/20\n",
      "15712/15712 [==============================] - 2s 153us/sample - loss: 1.5397 - accuracy: 0.9215\n",
      "Epoch 5/20\n",
      "15712/15712 [==============================] - 2s 152us/sample - loss: 1.5396 - accuracy: 0.9215\n",
      "Epoch 6/20\n",
      "15712/15712 [==============================] - 2s 156us/sample - loss: 1.5394 - accuracy: 0.9217\n",
      "Epoch 7/20\n",
      "15712/15712 [==============================] - 2s 155us/sample - loss: 1.5395 - accuracy: 0.9217\n",
      "Epoch 8/20\n",
      "15712/15712 [==============================] - 2s 155us/sample - loss: 1.5394 - accuracy: 0.9217\n",
      "Epoch 9/20\n",
      "15712/15712 [==============================] - 2s 156us/sample - loss: 1.5394 - accuracy: 0.9217\n",
      "Epoch 10/20\n",
      "15712/15712 [==============================] - 2s 156us/sample - loss: 1.5399 - accuracy: 0.9213\n",
      "Epoch 11/20\n",
      "15712/15712 [==============================] - 2s 158us/sample - loss: 1.5376 - accuracy: 0.9236\n",
      "Epoch 12/20\n",
      "15712/15712 [==============================] - 2s 156us/sample - loss: 1.5357 - accuracy: 0.9254\n",
      "Epoch 13/20\n",
      "15712/15712 [==============================] - 2s 158us/sample - loss: 1.5351 - accuracy: 0.9260\n",
      "Epoch 14/20\n",
      "15712/15712 [==============================] - 3s 160us/sample - loss: 1.5337 - accuracy: 0.9274\n",
      "Epoch 15/20\n",
      "15712/15712 [==============================] - 2s 157us/sample - loss: 1.5313 - accuracy: 0.9299\n",
      "Epoch 16/20\n",
      "15712/15712 [==============================] - 3s 164us/sample - loss: 1.5312 - accuracy: 0.9299\n",
      "Epoch 17/20\n",
      "15712/15712 [==============================] - 3s 159us/sample - loss: 1.5312 - accuracy: 0.9299\n",
      "Epoch 18/20\n",
      "15712/15712 [==============================] - 2s 159us/sample - loss: 1.5312 - accuracy: 0.9299\n",
      "Epoch 19/20\n",
      "15712/15712 [==============================] - 3s 162us/sample - loss: 1.5312 - accuracy: 0.9299\n",
      "Epoch 20/20\n",
      "15712/15712 [==============================] - 2s 155us/sample - loss: 1.5327 - accuracy: 0.9285\n"
     ]
    },
    {
     "data": {
      "text/plain": [
       "<tensorflow.python.keras.callbacks.History at 0x7f0ab8633438>"
      ]
     },
     "execution_count": 44,
     "metadata": {},
     "output_type": "execute_result"
    }
   ],
   "source": [
    "model_deep.fit(train_data_tfidf, train_labels, epochs=20)"
   ]
  },
  {
   "cell_type": "code",
   "execution_count": 45,
   "metadata": {},
   "outputs": [
    {
     "name": "stdout",
     "output_type": "stream",
     "text": [
      "3926/1 - 0s - loss: 1.5084 - accuracy: 0.9284\n"
     ]
    },
    {
     "data": {
      "text/plain": [
       "[1.5488437977726217, 0.9284259]"
      ]
     },
     "execution_count": 45,
     "metadata": {},
     "output_type": "execute_result"
    }
   ],
   "source": [
    "model.evaluate(test_data_tfidf,  test_labels, verbose=2)"
   ]
  },
  {
   "cell_type": "markdown",
   "metadata": {},
   "source": [
    "### Inference \n",
    "From the above deep model experiment it seems like the function is simple enough to be learned by linear model or single output layer"
   ]
  },
  {
   "cell_type": "markdown",
   "metadata": {},
   "source": [
    "# More things that can be done to improve the accuracy\n",
    "1. Collect more data to reduce class imbalance.\n",
    "2. "
   ]
  }
 ],
 "metadata": {
  "kernelspec": {
   "display_name": "Python 3",
   "language": "python",
   "name": "python3"
  },
  "language_info": {
   "codemirror_mode": {
    "name": "ipython",
    "version": 3
   },
   "file_extension": ".py",
   "mimetype": "text/x-python",
   "name": "python",
   "nbconvert_exporter": "python",
   "pygments_lexer": "ipython3",
   "version": "3.6.8"
  }
 },
 "nbformat": 4,
 "nbformat_minor": 4
}
