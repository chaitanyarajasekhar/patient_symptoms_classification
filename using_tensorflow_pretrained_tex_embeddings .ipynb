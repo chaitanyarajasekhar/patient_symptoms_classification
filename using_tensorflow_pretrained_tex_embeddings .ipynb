{
 "cells": [
  {
   "cell_type": "markdown",
   "metadata": {},
   "source": [
    "# Text classification using pretrained tensorflow embedding model "
   ]
  },
  {
   "cell_type": "code",
   "execution_count": 1,
   "metadata": {},
   "outputs": [],
   "source": [
    "import pandas as pd\n",
    "import numpy as np\n",
    "import scipy\n",
    "import tensorflow as tf\n",
    "import matplotlib.pyplot as plt\n",
    "\n",
    "import tensorflow_hub as hub\n",
    "\n",
    "%matplotlib inline"
   ]
  },
  {
   "cell_type": "markdown",
   "metadata": {},
   "source": [
    "# Importing and Preprocessing data"
   ]
  },
  {
   "cell_type": "code",
   "execution_count": 2,
   "metadata": {},
   "outputs": [
    {
     "name": "stdout",
     "output_type": "stream",
     "text": [
      "      0     1           2                                     3    4    5   \\\n",
      "0  37013  AFIB   314208002             Rapid atrial fibrillation  NaN  NaN   \n",
      "1  37014  Afib  3320796013                        Atrial flutter  NaN  NaN   \n",
      "2  37015  Afib  3322864015               Atypical atrial flutter  NaN  NaN   \n",
      "3  37016  AFib   421232012   AF - Paroxysmal atrial fibrillation  NaN  NaN   \n",
      "4  37017  Afib   421233019  PAF - Paroxysmal atrial fibrillation  NaN  NaN   \n",
      "\n",
      "    6   7   8   9  10         11  12  13  14    15 16  \\\n",
      "0  NaN NaN NaN NaN  f  SNOMED-CT  74 NaN NaN  4010  f   \n",
      "1  NaN NaN NaN NaN  f  SNOMED-CT  74 NaN NaN  4010  f   \n",
      "2  NaN NaN NaN NaN  f  SNOMED-CT  74 NaN NaN  4010  f   \n",
      "3  NaN NaN NaN NaN  f  SNOMED-CT  74 NaN NaN  4010  f   \n",
      "4  NaN NaN NaN NaN  f  SNOMED-CT  74 NaN NaN  4010  f   \n",
      "\n",
      "                                     17  \n",
      "0  3137fbd7-551e-4e7e-96f8-13b12a867098  \n",
      "1  3137fbd7-551e-4e7e-96f8-13b12a867098  \n",
      "2  3137fbd7-551e-4e7e-96f8-13b12a867098  \n",
      "3  3137fbd7-551e-4e7e-96f8-13b12a867098  \n",
      "4  3137fbd7-551e-4e7e-96f8-13b12a867098  \n"
     ]
    }
   ],
   "source": [
    "# importing the data and prinitng few rows to examine the data\n",
    "# read the CSV file \n",
    "df = pd.read_csv(\"codeset.csv\", header=None) \n",
    "   \n",
    "# print the first five rows \n",
    "print(df.head())"
   ]
  },
  {
   "cell_type": "code",
   "execution_count": 3,
   "metadata": {},
   "outputs": [],
   "source": [
    "# selecting only the columns present in the problem statement\n",
    "select_columns_index = [3,15]\n",
    "df = df.iloc[:,select_columns_index]"
   ]
  },
  {
   "cell_type": "code",
   "execution_count": 4,
   "metadata": {},
   "outputs": [
    {
     "name": "stdout",
     "output_type": "stream",
     "text": [
      "(32052, 2)\n"
     ]
    }
   ],
   "source": [
    "# dropping the rows with empty values i.e. incomplete data\n",
    "df = df.dropna()\n",
    "print(df.shape)"
   ]
  },
  {
   "cell_type": "code",
   "execution_count": 5,
   "metadata": {},
   "outputs": [
    {
     "data": {
      "text/html": [
       "<div>\n",
       "<style scoped>\n",
       "    .dataframe tbody tr th:only-of-type {\n",
       "        vertical-align: middle;\n",
       "    }\n",
       "\n",
       "    .dataframe tbody tr th {\n",
       "        vertical-align: top;\n",
       "    }\n",
       "\n",
       "    .dataframe thead th {\n",
       "        text-align: right;\n",
       "    }\n",
       "</style>\n",
       "<table border=\"1\" class=\"dataframe\">\n",
       "  <thead>\n",
       "    <tr style=\"text-align: right;\">\n",
       "      <th></th>\n",
       "      <th>symptoms</th>\n",
       "      <th>code</th>\n",
       "    </tr>\n",
       "  </thead>\n",
       "  <tbody>\n",
       "    <tr>\n",
       "      <th>0</th>\n",
       "      <td>Rapid atrial fibrillation</td>\n",
       "      <td>4010</td>\n",
       "    </tr>\n",
       "    <tr>\n",
       "      <th>1</th>\n",
       "      <td>Atrial flutter</td>\n",
       "      <td>4010</td>\n",
       "    </tr>\n",
       "    <tr>\n",
       "      <th>2</th>\n",
       "      <td>Atypical atrial flutter</td>\n",
       "      <td>4010</td>\n",
       "    </tr>\n",
       "    <tr>\n",
       "      <th>3</th>\n",
       "      <td>AF - Paroxysmal atrial fibrillation</td>\n",
       "      <td>4010</td>\n",
       "    </tr>\n",
       "    <tr>\n",
       "      <th>4</th>\n",
       "      <td>PAF - Paroxysmal atrial fibrillation</td>\n",
       "      <td>4010</td>\n",
       "    </tr>\n",
       "  </tbody>\n",
       "</table>\n",
       "</div>"
      ],
      "text/plain": [
       "                               symptoms  code\n",
       "0             Rapid atrial fibrillation  4010\n",
       "1                        Atrial flutter  4010\n",
       "2               Atypical atrial flutter  4010\n",
       "3   AF - Paroxysmal atrial fibrillation  4010\n",
       "4  PAF - Paroxysmal atrial fibrillation  4010"
      ]
     },
     "execution_count": 5,
     "metadata": {},
     "output_type": "execute_result"
    }
   ],
   "source": [
    "# renaming the columns for better readability \n",
    "df = df.rename(columns={3: \"symptoms\", 15: \"code\"})\n",
    "df.head()\n"
   ]
  },
  {
   "cell_type": "code",
   "execution_count": 6,
   "metadata": {},
   "outputs": [],
   "source": [
    "def create_labels_df(df, label_column):\n",
    "    # create numerical lables for training the data \n",
    "    df[\"label\"] = np.nan\n",
    "#     print(df.shape)\n",
    "\n",
    "    value_counts = df[label_column].value_counts() # Specific column \n",
    "    code_index   = value_counts.index\n",
    "#     print(code_index)\n",
    "    for i, code_id in enumerate(code_index):\n",
    "        df.loc[df[df[label_column] == code_id].index,\"label\"] = i\n",
    "        \n",
    "    return df"
   ]
  },
  {
   "cell_type": "code",
   "execution_count": 7,
   "metadata": {},
   "outputs": [],
   "source": [
    "# train and test split https://stackoverflow.com/questions/24147278/how-do-i-create-test-and-train-samples-from-one-dataframe-with-pandas\n",
    "def split_to_train_test(df, label_column, train_frac=0.8):\n",
    "    train_df, test_df = pd.DataFrame(), pd.DataFrame()\n",
    "    labels = df[label_column].unique()\n",
    "    for lbl in labels:\n",
    "        lbl_df = df[df[label_column] == lbl]\n",
    "        lbl_train_df = lbl_df.sample(frac=train_frac)\n",
    "        lbl_test_df = lbl_df.drop(lbl_train_df.index)\n",
    "        #print('\\n%s:\\n---------\\ntotal:%d\\ntrain_df:%d\\ntest_df:%d' % (lbl, len(lbl_df), len(lbl_train_df), len(lbl_test_df)))\n",
    "        train_df = train_df.append(lbl_train_df)\n",
    "        test_df = test_df.append(lbl_test_df)\n",
    "\n",
    "    return train_df, test_df"
   ]
  },
  {
   "cell_type": "code",
   "execution_count": 8,
   "metadata": {},
   "outputs": [],
   "source": [
    "def data_processing(df, threshold):    \n",
    "    # reducing the problem to 10 classes\n",
    "    value_counts = df[\"code\"].value_counts() # Specific column \n",
    "    to_remove = value_counts[value_counts <= threshold].index\n",
    "    for code in to_remove:\n",
    "        df = df[df[\"code\"] != code]\n",
    "\n",
    "    df =  create_labels_df(df,\"code\")\n",
    "\n",
    "    train_df, test_df = split_to_train_test(df, \"label\", train_frac=0.8)\n",
    "    \n",
    "    return train_df, test_df"
   ]
  },
  {
   "cell_type": "code",
   "execution_count": 9,
   "metadata": {},
   "outputs": [],
   "source": [
    "# selecting only 10 classes to experiment with \n",
    "train_df, test_df = data_processing(df,650) "
   ]
  },
  {
   "cell_type": "markdown",
   "metadata": {},
   "source": [
    "## plotting confusion_matrix block"
   ]
  },
  {
   "cell_type": "code",
   "execution_count": 10,
   "metadata": {},
   "outputs": [],
   "source": [
    "import seaborn as sns\n",
    "from sklearn import metrics"
   ]
  },
  {
   "cell_type": "code",
   "execution_count": 11,
   "metadata": {},
   "outputs": [],
   "source": [
    "def plot_confusion_matrix(score, true_labels, predicted_labels, n_labels):\n",
    "    confusion_matrix = metrics.confusion_matrix(true_labels,predicted_labels)\n",
    "    plt.figure(figsize=(n_labels-1,n_labels-1))\n",
    "    sns.heatmap(confusion_matrix, annot=True, fmt=\".1f\", linewidths=.5, square = True, cmap = 'Blues_r');\n",
    "    plt.ylabel('Actual label');\n",
    "    plt.xlabel('Predicted label');\n",
    "    all_sample_title = 'Accuracy Score: {0}'.format(score)\n",
    "    plt.title(all_sample_title, size = 15);"
   ]
  },
  {
   "cell_type": "markdown",
   "metadata": {},
   "source": [
    "## Load the pretrained tensorflow word embedding model "
   ]
  },
  {
   "cell_type": "code",
   "execution_count": 12,
   "metadata": {},
   "outputs": [],
   "source": [
    "embedding = \"https://tfhub.dev/google/tf2-preview/gnews-swivel-20dim/1\"\n",
    "hub_layer = hub.KerasLayer(embedding, input_shape=[], \n",
    "                           dtype=tf.string, trainable=True)"
   ]
  },
  {
   "cell_type": "code",
   "execution_count": 13,
   "metadata": {},
   "outputs": [],
   "source": [
    "# load test and train data\n",
    "x_train = train_df[\"symptoms\"].to_numpy()\n",
    "y_train = train_df[\"label\"].to_numpy()\n",
    "\n",
    "x_test = test_df[\"symptoms\"].to_numpy()\n",
    "y_test = test_df[\"label\"].to_numpy()"
   ]
  },
  {
   "cell_type": "code",
   "execution_count": 14,
   "metadata": {},
   "outputs": [
    {
     "name": "stdout",
     "output_type": "stream",
     "text": [
      "(15712,) (15712,)\n"
     ]
    }
   ],
   "source": [
    "print(x_train.shape, y_train.shape, )"
   ]
  },
  {
   "cell_type": "markdown",
   "metadata": {},
   "source": [
    "## Testing model 1 with embedding size 20"
   ]
  },
  {
   "cell_type": "markdown",
   "metadata": {},
   "source": [
    "Here the hub layer takes the text data and converts it into a array of size 20"
   ]
  },
  {
   "cell_type": "code",
   "execution_count": 15,
   "metadata": {},
   "outputs": [
    {
     "name": "stdout",
     "output_type": "stream",
     "text": [
      "Model: \"sequential\"\n",
      "_________________________________________________________________\n",
      "Layer (type)                 Output Shape              Param #   \n",
      "=================================================================\n",
      "keras_layer (KerasLayer)     (None, 20)                400020    \n",
      "_________________________________________________________________\n",
      "dense (Dense)                (None, 16)                336       \n",
      "_________________________________________________________________\n",
      "dense_1 (Dense)              (None, 10)                170       \n",
      "=================================================================\n",
      "Total params: 400,526\n",
      "Trainable params: 400,526\n",
      "Non-trainable params: 0\n",
      "_________________________________________________________________\n"
     ]
    }
   ],
   "source": [
    "\n",
    "model = tf.keras.Sequential()\n",
    "model.add(hub_layer)\n",
    "model.add(tf.keras.layers.Dense(16, activation='relu'))\n",
    "model.add(tf.keras.layers.Dense(10, activation ='softmax'))\n",
    "\n",
    "model.summary()\n"
   ]
  },
  {
   "cell_type": "code",
   "execution_count": 16,
   "metadata": {},
   "outputs": [],
   "source": [
    "model.compile(optimizer='adam',\n",
    "              loss=tf.keras.losses.SparseCategoricalCrossentropy(from_logits=True),\n",
    "              metrics=['accuracy'])\n"
   ]
  },
  {
   "cell_type": "code",
   "execution_count": 17,
   "metadata": {},
   "outputs": [
    {
     "name": "stdout",
     "output_type": "stream",
     "text": [
      "Train on 15712 samples\n",
      "Epoch 1/20\n",
      "15712/15712 [==============================] - 3s 163us/sample - loss: 2.1493 - accuracy: 0.3429\n",
      "Epoch 2/20\n",
      "15712/15712 [==============================] - 2s 132us/sample - loss: 2.0594 - accuracy: 0.3975\n",
      "Epoch 3/20\n",
      "15712/15712 [==============================] - 2s 144us/sample - loss: 2.0262 - accuracy: 0.4276\n",
      "Epoch 4/20\n",
      "15712/15712 [==============================] - 2s 145us/sample - loss: 2.0149 - accuracy: 0.4328\n",
      "Epoch 5/20\n",
      "15712/15712 [==============================] - 2s 150us/sample - loss: 2.0075 - accuracy: 0.4381\n",
      "Epoch 6/20\n",
      "15712/15712 [==============================] - 2s 152us/sample - loss: 1.9987 - accuracy: 0.4792\n",
      "Epoch 7/20\n",
      "15712/15712 [==============================] - 2s 141us/sample - loss: 1.9904 - accuracy: 0.5170\n",
      "Epoch 8/20\n",
      "15712/15712 [==============================] - 2s 142us/sample - loss: 1.9825 - accuracy: 0.5260\n",
      "Epoch 9/20\n",
      "15712/15712 [==============================] - 2s 137us/sample - loss: 1.9744 - accuracy: 0.5291\n",
      "Epoch 10/20\n",
      "15712/15712 [==============================] - 2s 137us/sample - loss: 1.9683 - accuracy: 0.5300\n",
      "Epoch 11/20\n",
      "15712/15712 [==============================] - 2s 136us/sample - loss: 1.9625 - accuracy: 0.5302\n",
      "Epoch 12/20\n",
      "15712/15712 [==============================] - 2s 138us/sample - loss: 1.9583 - accuracy: 0.5303\n",
      "Epoch 13/20\n",
      "15712/15712 [==============================] - 2s 143us/sample - loss: 1.9546 - accuracy: 0.5302\n",
      "Epoch 14/20\n",
      "15712/15712 [==============================] - 2s 150us/sample - loss: 1.9512 - accuracy: 0.5305\n",
      "Epoch 15/20\n",
      "15712/15712 [==============================] - 2s 138us/sample - loss: 1.9482 - accuracy: 0.5309\n",
      "Epoch 16/20\n",
      "15712/15712 [==============================] - 2s 145us/sample - loss: 1.9458 - accuracy: 0.5310\n",
      "Epoch 17/20\n",
      "15712/15712 [==============================] - 2s 142us/sample - loss: 1.9435 - accuracy: 0.5313\n",
      "Epoch 18/20\n",
      "15712/15712 [==============================] - 2s 137us/sample - loss: 1.9416 - accuracy: 0.5314\n",
      "Epoch 19/20\n",
      "15712/15712 [==============================] - 2s 140us/sample - loss: 1.9399 - accuracy: 0.5315\n",
      "Epoch 20/20\n",
      "15712/15712 [==============================] - 2s 137us/sample - loss: 1.9386 - accuracy: 0.5314\n"
     ]
    },
    {
     "data": {
      "text/plain": [
       "<tensorflow.python.keras.callbacks.History at 0x7f5e0c0d0c18>"
      ]
     },
     "execution_count": 17,
     "metadata": {},
     "output_type": "execute_result"
    }
   ],
   "source": [
    "model.fit(x_train, y_train, epochs=20)"
   ]
  },
  {
   "cell_type": "code",
   "execution_count": 18,
   "metadata": {},
   "outputs": [
    {
     "name": "stdout",
     "output_type": "stream",
     "text": [
      "3926/1 - 0s - loss: 2.1973 - accuracy: 0.5247\n"
     ]
    },
    {
     "data": {
      "image/png": "[encoded data removed]",
      "text/plain": [
       "<Figure size 648x648 with 2 Axes>"
      ]
     },
     "metadata": {
      "needs_background": "light"
     },
     "output_type": "display_data"
    }
   ],
   "source": [
    "_, accuracy = model.evaluate(x_test,  y_test, verbose=2)\n",
    "predictions = np.argmax(model.predict(x_test), axis=1)\n",
    "plot_confusion_matrix(accuracy, y_test, predictions, 10)"
   ]
  },
  {
   "cell_type": "markdown",
   "metadata": {},
   "source": [
    "## Testing model 2 with embedding size of 128"
   ]
  },
  {
   "cell_type": "code",
   "execution_count": 19,
   "metadata": {},
   "outputs": [],
   "source": [
    "embedding_128 = \"https://tfhub.dev/google/tf2-preview/nnlm-en-dim128/1\"\n",
    "hub_layer_128 = hub.KerasLayer(embedding_128, input_shape=[], \n",
    "                           dtype=tf.string, trainable=True)\n"
   ]
  },
  {
   "cell_type": "code",
   "execution_count": 20,
   "metadata": {},
   "outputs": [
    {
     "name": "stdout",
     "output_type": "stream",
     "text": [
      "Model: \"sequential_1\"\n",
      "_________________________________________________________________\n",
      "Layer (type)                 Output Shape              Param #   \n",
      "=================================================================\n",
      "keras_layer (KerasLayer)     (None, 20)                400020    \n",
      "_________________________________________________________________\n",
      "dense_2 (Dense)              (None, 128)               2688      \n",
      "_________________________________________________________________\n",
      "dense_3 (Dense)              (None, 64)                8256      \n",
      "_________________________________________________________________\n",
      "dense_4 (Dense)              (None, 32)                2080      \n",
      "_________________________________________________________________\n",
      "dense_5 (Dense)              (None, 10)                330       \n",
      "=================================================================\n",
      "Total params: 413,374\n",
      "Trainable params: 413,374\n",
      "Non-trainable params: 0\n",
      "_________________________________________________________________\n"
     ]
    }
   ],
   "source": [
    "model_128 = tf.keras.Sequential()\n",
    "model_128.add(hub_layer)\n",
    "model_128.add(tf.keras.layers.Dense(128, activation='relu'))\n",
    "model_128.add(tf.keras.layers.Dense(64, activation='relu'))\n",
    "model_128.add(tf.keras.layers.Dense(32, activation='relu'))\n",
    "model_128.add(tf.keras.layers.Dense(10, activation ='softmax'))\n",
    "\n",
    "model_128.summary()\n"
   ]
  },
  {
   "cell_type": "code",
   "execution_count": 21,
   "metadata": {},
   "outputs": [],
   "source": [
    "model_128.compile(optimizer='adam',\n",
    "              loss=tf.keras.losses.SparseCategoricalCrossentropy(from_logits=True),\n",
    "              metrics=['accuracy'])"
   ]
  },
  {
   "cell_type": "code",
   "execution_count": 22,
   "metadata": {},
   "outputs": [
    {
     "name": "stdout",
     "output_type": "stream",
     "text": [
      "Train on 15712 samples\n",
      "Epoch 1/20\n",
      "15712/15712 [==============================] - 3s 159us/sample - loss: 2.0470 - accuracy: 0.4179\n",
      "Epoch 2/20\n",
      "15712/15712 [==============================] - 2s 130us/sample - loss: 2.0074 - accuracy: 0.4425\n",
      "Epoch 3/20\n",
      "15712/15712 [==============================] - 2s 129us/sample - loss: 1.9777 - accuracy: 0.4899\n",
      "Epoch 4/20\n",
      "15712/15712 [==============================] - 2s 130us/sample - loss: 1.9360 - accuracy: 0.5311\n",
      "Epoch 5/20\n",
      "15712/15712 [==============================] - 2s 135us/sample - loss: 1.9303 - accuracy: 0.5316\n",
      "Epoch 6/20\n",
      "15712/15712 [==============================] - 2s 129us/sample - loss: 1.9302 - accuracy: 0.5314\n",
      "Epoch 7/20\n",
      "15712/15712 [==============================] - 2s 127us/sample - loss: 1.9296 - accuracy: 0.5317\n",
      "Epoch 8/20\n",
      "15712/15712 [==============================] - 2s 149us/sample - loss: 1.9295 - accuracy: 0.5318\n",
      "Epoch 9/20\n",
      "15712/15712 [==============================] - 2s 137us/sample - loss: 1.9294 - accuracy: 0.5318\n",
      "Epoch 10/20\n",
      "15712/15712 [==============================] - 2s 118us/sample - loss: 1.9294 - accuracy: 0.5318\n",
      "Epoch 11/20\n",
      "15712/15712 [==============================] - 2s 121us/sample - loss: 1.9838 - accuracy: 0.4774\n",
      "Epoch 12/20\n",
      "15712/15712 [==============================] - 2s 137us/sample - loss: 2.0245 - accuracy: 0.4366\n",
      "Epoch 13/20\n",
      "15712/15712 [==============================] - 2s 133us/sample - loss: 2.0248 - accuracy: 0.4362\n",
      "Epoch 14/20\n",
      "15712/15712 [==============================] - 2s 123us/sample - loss: 2.0246 - accuracy: 0.4365\n",
      "Epoch 15/20\n",
      "15712/15712 [==============================] - 2s 124us/sample - loss: 2.0246 - accuracy: 0.4365\n",
      "Epoch 16/20\n",
      "15712/15712 [==============================] - 2s 136us/sample - loss: 2.0244 - accuracy: 0.4367\n",
      "Epoch 17/20\n",
      "15712/15712 [==============================] - 2s 129us/sample - loss: 2.0242 - accuracy: 0.4369\n",
      "Epoch 18/20\n",
      "15712/15712 [==============================] - 2s 149us/sample - loss: 2.0241 - accuracy: 0.4371\n",
      "Epoch 19/20\n",
      "15712/15712 [==============================] - 2s 136us/sample - loss: 2.0237 - accuracy: 0.4374\n",
      "Epoch 20/20\n",
      "15712/15712 [==============================] - 2s 137us/sample - loss: 2.0236 - accuracy: 0.4376\n"
     ]
    },
    {
     "data": {
      "text/plain": [
       "<tensorflow.python.keras.callbacks.History at 0x7f5dc07ab2b0>"
      ]
     },
     "execution_count": 22,
     "metadata": {},
     "output_type": "execute_result"
    }
   ],
   "source": [
    "model_128.fit(x_train, y_train, epochs=20)"
   ]
  },
  {
   "cell_type": "code",
   "execution_count": 23,
   "metadata": {},
   "outputs": [
    {
     "name": "stdout",
     "output_type": "stream",
     "text": [
      "3926/1 - 0s - loss: 2.2437 - accuracy: 0.4350\n"
     ]
    },
    {
     "data": {
      "image/png": "[encoded data removed]",
      "text/plain": [
       "<Figure size 648x648 with 2 Axes>"
      ]
     },
     "metadata": {
      "needs_background": "light"
     },
     "output_type": "display_data"
    }
   ],
   "source": [
    "_, accuracy = model_128.evaluate(x_test,  y_test, verbose=2)\n",
    "predictions = np.argmax(model.predict(x_test), axis=1)\n",
    "plot_confusion_matrix(accuracy, y_test, predictions, 10)"
   ]
  },
  {
   "cell_type": "markdown",
   "metadata": {},
   "source": [
    "# Inference \n",
    "Here the pretrained models from tensorflow might not have been trained on the medical data in the problem dataset. That might be the reason of poor purformance (have to double check, Did not get a chance to completely observe the data set that the pretrained model is trained on). But with more data these kind of embeddings can be trained which might learn complex reprecentation of the text and the performance can be compared to the existing bag of words models."
   ]
  },
  {
   "cell_type": "code",
   "execution_count": null,
   "metadata": {},
   "outputs": [],
   "source": []
  }
 ],
 "metadata": {
  "kernelspec": {
   "display_name": "Python 3",
   "language": "python",
   "name": "python3"
  },
  "language_info": {
   "codemirror_mode": {
    "name": "ipython",
    "version": 3
   },
   "file_extension": ".py",
   "mimetype": "text/x-python",
   "name": "python",
   "nbconvert_exporter": "python",
   "pygments_lexer": "ipython3",
   "version": "3.6.8"
  }
 },
 "nbformat": 4,
 "nbformat_minor": 4
}
